{
 "cells": [
  {
   "cell_type": "code",
   "execution_count": 26,
   "metadata": {
    "collapsed": true
   },
   "outputs": [],
   "source": [
    "import pandas as pd \n",
    "import numpy as np\n",
    "import seaborn as sns\n",
    "import matplotlib.pyplot as plt\n",
    "%matplotlib inline\n",
    "from sklearn.preprocessing import LabelEncoder\n",
    "import sys\n",
    "from scipy.stats import norm\n",
    "from sklearn.preprocessing import StandardScaler\n",
    "from scipy import stats"
   ]
  },
  {
   "cell_type": "code",
   "execution_count": 27,
   "metadata": {
    "collapsed": true
   },
   "outputs": [],
   "source": [
    "train = pd.read_csv('train.csv')\n",
    "test = pd.read_csv('test.csv')"
   ]
  },
  {
   "cell_type": "code",
   "execution_count": 28,
   "metadata": {},
   "outputs": [
    {
     "name": "stdout",
     "output_type": "stream",
     "text": [
      "Columns:->  Index(['User_ID', 'Product_ID', 'Gender', 'Age', 'Occupation', 'City_Category',\n",
      "       'Stay_In_Current_City_Years', 'Marital_Status', 'Product_Category_1',\n",
      "       'Product_Category_2', 'Product_Category_3', 'Purchase'],\n",
      "      dtype='object')\n",
      "\n",
      "Number of Columns:  12\n",
      "Number of Rows:  550068\n"
     ]
    }
   ],
   "source": [
    "# Looking at the columns\n",
    "print(\"Columns:-> \", train.columns)\n",
    "print(\"\\nNumber of Columns: \", len(train.columns))\n",
    "print(\"Number of Rows: \", len(train))"
   ]
  },
  {
   "cell_type": "code",
   "execution_count": 29,
   "metadata": {},
   "outputs": [
    {
     "data": {
      "text/plain": [
       "Index(['Product_ID', 'Gender', 'Age', 'City_Category',\n",
       "       'Stay_In_Current_City_Years'],\n",
       "      dtype='object')"
      ]
     },
     "execution_count": 29,
     "metadata": {},
     "output_type": "execute_result"
    }
   ],
   "source": [
    "# Looking at the Categorical variables\n",
    "train.dtypes[train.dtypes == 'object'].index"
   ]
  },
  {
   "cell_type": "code",
   "execution_count": 30,
   "metadata": {},
   "outputs": [
    {
     "name": "stdout",
     "output_type": "stream",
     "text": [
      "Index(['User_ID', 'Occupation', 'Marital_Status', 'Product_Category_1',\n",
      "       'Product_Category_2', 'Product_Category_3', 'Purchase'],\n",
      "      dtype='object')\n"
     ]
    }
   ],
   "source": [
    "#Looking at Numerical Variables\n",
    "numerical_variables = train.dtypes.loc[train.dtypes  !='object'].index\n",
    "print(numerical_variables)"
   ]
  },
  {
   "cell_type": "code",
   "execution_count": 31,
   "metadata": {},
   "outputs": [
    {
     "data": {
      "text/html": [
       "<div>\n",
       "<style>\n",
       "    .dataframe thead tr:only-child th {\n",
       "        text-align: right;\n",
       "    }\n",
       "\n",
       "    .dataframe thead th {\n",
       "        text-align: left;\n",
       "    }\n",
       "\n",
       "    .dataframe tbody tr th {\n",
       "        vertical-align: top;\n",
       "    }\n",
       "</style>\n",
       "<table border=\"1\" class=\"dataframe\">\n",
       "  <thead>\n",
       "    <tr style=\"text-align: right;\">\n",
       "      <th></th>\n",
       "      <th>User_ID</th>\n",
       "      <th>Product_ID</th>\n",
       "      <th>Gender</th>\n",
       "      <th>Age</th>\n",
       "      <th>Occupation</th>\n",
       "      <th>City_Category</th>\n",
       "      <th>Stay_In_Current_City_Years</th>\n",
       "      <th>Marital_Status</th>\n",
       "      <th>Product_Category_1</th>\n",
       "      <th>Product_Category_2</th>\n",
       "      <th>Product_Category_3</th>\n",
       "      <th>Purchase</th>\n",
       "    </tr>\n",
       "  </thead>\n",
       "  <tbody>\n",
       "    <tr>\n",
       "      <th>0</th>\n",
       "      <td>1000001</td>\n",
       "      <td>P00069042</td>\n",
       "      <td>F</td>\n",
       "      <td>0-17</td>\n",
       "      <td>10</td>\n",
       "      <td>A</td>\n",
       "      <td>2</td>\n",
       "      <td>0</td>\n",
       "      <td>3</td>\n",
       "      <td>NaN</td>\n",
       "      <td>NaN</td>\n",
       "      <td>8370</td>\n",
       "    </tr>\n",
       "    <tr>\n",
       "      <th>1</th>\n",
       "      <td>1000001</td>\n",
       "      <td>P00248942</td>\n",
       "      <td>F</td>\n",
       "      <td>0-17</td>\n",
       "      <td>10</td>\n",
       "      <td>A</td>\n",
       "      <td>2</td>\n",
       "      <td>0</td>\n",
       "      <td>1</td>\n",
       "      <td>6.0</td>\n",
       "      <td>14.0</td>\n",
       "      <td>15200</td>\n",
       "    </tr>\n",
       "    <tr>\n",
       "      <th>2</th>\n",
       "      <td>1000001</td>\n",
       "      <td>P00087842</td>\n",
       "      <td>F</td>\n",
       "      <td>0-17</td>\n",
       "      <td>10</td>\n",
       "      <td>A</td>\n",
       "      <td>2</td>\n",
       "      <td>0</td>\n",
       "      <td>12</td>\n",
       "      <td>NaN</td>\n",
       "      <td>NaN</td>\n",
       "      <td>1422</td>\n",
       "    </tr>\n",
       "    <tr>\n",
       "      <th>3</th>\n",
       "      <td>1000001</td>\n",
       "      <td>P00085442</td>\n",
       "      <td>F</td>\n",
       "      <td>0-17</td>\n",
       "      <td>10</td>\n",
       "      <td>A</td>\n",
       "      <td>2</td>\n",
       "      <td>0</td>\n",
       "      <td>12</td>\n",
       "      <td>14.0</td>\n",
       "      <td>NaN</td>\n",
       "      <td>1057</td>\n",
       "    </tr>\n",
       "    <tr>\n",
       "      <th>4</th>\n",
       "      <td>1000002</td>\n",
       "      <td>P00285442</td>\n",
       "      <td>M</td>\n",
       "      <td>55+</td>\n",
       "      <td>16</td>\n",
       "      <td>C</td>\n",
       "      <td>4+</td>\n",
       "      <td>0</td>\n",
       "      <td>8</td>\n",
       "      <td>NaN</td>\n",
       "      <td>NaN</td>\n",
       "      <td>7969</td>\n",
       "    </tr>\n",
       "  </tbody>\n",
       "</table>\n",
       "</div>"
      ],
      "text/plain": [
       "   User_ID Product_ID Gender   Age  Occupation City_Category  \\\n",
       "0  1000001  P00069042      F  0-17          10             A   \n",
       "1  1000001  P00248942      F  0-17          10             A   \n",
       "2  1000001  P00087842      F  0-17          10             A   \n",
       "3  1000001  P00085442      F  0-17          10             A   \n",
       "4  1000002  P00285442      M   55+          16             C   \n",
       "\n",
       "  Stay_In_Current_City_Years  Marital_Status  Product_Category_1  \\\n",
       "0                          2               0                   3   \n",
       "1                          2               0                   1   \n",
       "2                          2               0                  12   \n",
       "3                          2               0                  12   \n",
       "4                         4+               0                   8   \n",
       "\n",
       "   Product_Category_2  Product_Category_3  Purchase  \n",
       "0                 NaN                 NaN      8370  \n",
       "1                 6.0                14.0     15200  \n",
       "2                 NaN                 NaN      1422  \n",
       "3                14.0                 NaN      1057  \n",
       "4                 NaN                 NaN      7969  "
      ]
     },
     "execution_count": 31,
     "metadata": {},
     "output_type": "execute_result"
    }
   ],
   "source": [
    "#Looking at first few rows\n",
    "train.head()"
   ]
  },
  {
   "cell_type": "code",
   "execution_count": 32,
   "metadata": {
    "collapsed": true
   },
   "outputs": [],
   "source": [
    "# Saving id variables to create final submission\n",
    "\n",
    "ids_test = test['User_ID'].copy()\n",
    "product_ids_test = test['Product_ID'].copy()"
   ]
  },
  {
   "cell_type": "markdown",
   "metadata": {},
   "source": [
    "<h2>Univariate Analysis</h2>"
   ]
  },
  {
   "cell_type": "code",
   "execution_count": 33,
   "metadata": {},
   "outputs": [
    {
     "data": {
      "text/plain": [
       "count    550068.000000\n",
       "mean       9263.968713\n",
       "std        5023.065394\n",
       "min          12.000000\n",
       "25%        5823.000000\n",
       "50%        8047.000000\n",
       "75%       12054.000000\n",
       "max       23961.000000\n",
       "Name: Purchase, dtype: float64"
      ]
     },
     "execution_count": 33,
     "metadata": {},
     "output_type": "execute_result"
    }
   ],
   "source": [
    "#Analyzing Purchase Amount\n",
    "train['Purchase'].describe()"
   ]
  },
  {
   "cell_type": "code",
   "execution_count": 34,
   "metadata": {},
   "outputs": [
    {
     "data": {
      "text/plain": [
       "<matplotlib.axes._subplots.AxesSubplot at 0x7f7da9e9d5f8>"
      ]
     },
     "execution_count": 34,
     "metadata": {},
     "output_type": "execute_result"
    },
    {
     "data": {
      "image/png": "[encoded data removed]",
      "text/plain": [
       "<matplotlib.figure.Figure at 0x7f7da9e9dc50>"
      ]
     },
     "metadata": {},
     "output_type": "display_data"
    }
   ],
   "source": [
    "# --- Looking at the Distribution of 'SalePrice' ---\n",
    "x=train['Purchase']\n",
    "sns.distplot(x,kde=True,bins=60)"
   ]
  },
  {
   "cell_type": "markdown",
   "metadata": {},
   "source": [
    "<p>We infer from the plot that.........</p>"
   ]
  },
  {
   "cell_type": "code",
   "execution_count": 35,
   "metadata": {},
   "outputs": [
    {
     "name": "stdout",
     "output_type": "stream",
     "text": [
      "Skewness: 0.600140003709\n",
      "Kurtosis: -0.338377565585\n"
     ]
    }
   ],
   "source": [
    "# Skewness and Kurtosis\n",
    "print(\"Skewness:\", train['Purchase'].skew())\n",
    "print(\"Kurtosis:\", train['Purchase'].kurt())"
   ]
  },
  {
   "cell_type": "code",
   "execution_count": 14,
   "metadata": {},
   "outputs": [
    {
     "data": {
      "text/plain": [
       "<matplotlib.axes._subplots.AxesSubplot at 0x7fa5741c1f60>"
      ]
     },
     "execution_count": 14,
     "metadata": {},
     "output_type": "execute_result"
    },
    {
     "data": {
      "image/png": "[encoded data removed]",
      "text/plain": [
       "<matplotlib.figure.Figure at 0x7fa57439bbe0>"
      ]
     },
     "metadata": {},
     "output_type": "display_data"
    }
   ],
   "source": [
    "#Analyzing purchase with marital status\n",
    "sns.barplot(x='Marital_Status',y='Purchase',data=train)"
   ]
  },
  {
   "cell_type": "markdown",
   "metadata": {},
   "source": [
    "<p>Average value of purchase is same for male & female , So purchase doesnot depend on whether customer is married or not strongly</p>"
   ]
  },
  {
   "cell_type": "code",
   "execution_count": 87,
   "metadata": {},
   "outputs": [
    {
     "data": {
      "text/plain": [
       "<matplotlib.axes._subplots.AxesSubplot at 0x165d6d30>"
      ]
     },
     "execution_count": 87,
     "metadata": {},
     "output_type": "execute_result"
    },
    {
     "data": {
      "image/png": "[encoded data removed]",
      "text/plain": [
       "<matplotlib.figure.Figure at 0x165504a8>"
      ]
     },
     "metadata": {},
     "output_type": "display_data"
    }
   ],
   "source": [
    "#Analyzing Purchase with Gender\n",
    "sns.barplot(x='Gender',y='Purchase',data=train)"
   ]
  },
  {
   "cell_type": "code",
   "execution_count": 88,
   "metadata": {},
   "outputs": [
    {
     "data": {
      "text/plain": [
       "<matplotlib.axes._subplots.AxesSubplot at 0x16723198>"
      ]
     },
     "execution_count": 88,
     "metadata": {},
     "output_type": "execute_result"
    },
    {
     "data": {
      "image/png": "[encoded data removed]",
      "text/plain": [
       "<matplotlib.figure.Figure at 0x167570f0>"
      ]
     },
     "metadata": {},
     "output_type": "display_data"
    }
   ],
   "source": [
    "#Analyzing Purchase with City Type\n",
    "sns.barplot(x='City_Category',y='Purchase',data=train)"
   ]
  },
  {
   "cell_type": "code",
   "execution_count": 56,
   "metadata": {},
   "outputs": [
    {
     "data": {
      "text/plain": [
       "<matplotlib.axes._subplots.AxesSubplot at 0xbaac160>"
      ]
     },
     "execution_count": 56,
     "metadata": {},
     "output_type": "execute_result"
    },
    {
     "data": {
      "image/png": "[encoded data removed]",
      "text/plain": [
       "<matplotlib.figure.Figure at 0x14fcc4a8>"
      ]
     },
     "metadata": {},
     "output_type": "display_data"
    }
   ],
   "source": [
    "#Analyzing Purchase with Age\n",
    "sns.barplot(x='Age',y='Purchase',data=train)"
   ]
  },
  {
   "cell_type": "markdown",
   "metadata": {},
   "source": [
    "<p>Average value of purchase is same for all ages, it does not variate much ,So purchase doesnot depend on age strongly</p>"
   ]
  },
  {
   "cell_type": "code",
   "execution_count": 89,
   "metadata": {},
   "outputs": [
    {
     "data": {
      "text/plain": [
       "<matplotlib.axes._subplots.AxesSubplot at 0x1661c6d8>"
      ]
     },
     "execution_count": 89,
     "metadata": {},
     "output_type": "execute_result"
    },
    {
     "data": {
      "image/png": "[encoded data removed]",
      "text/plain": [
       "<matplotlib.figure.Figure at 0x16371710>"
      ]
     },
     "metadata": {},
     "output_type": "display_data"
    }
   ],
   "source": [
    "#Analysing Purchase with Stay_In_Current_City_Years\n",
    "sns.barplot(x='Stay_In_Current_City_Years',y='Purchase',data=train)"
   ]
  },
  {
   "cell_type": "markdown",
   "metadata": {},
   "source": [
    "<p>Average value of purchase is same for all No. of years staying in same city , it does not variate much ,So purchase doesnot depend on it strongly</p>"
   ]
  },
  {
   "cell_type": "code",
   "execution_count": 90,
   "metadata": {},
   "outputs": [
    {
     "data": {
      "text/plain": [
       "<matplotlib.axes._subplots.AxesSubplot at 0x16698898>"
      ]
     },
     "execution_count": 90,
     "metadata": {},
     "output_type": "execute_result"
    },
    {
     "data": {
      "image/png": "[encoded data removed]",
      "text/plain": [
       "<matplotlib.figure.Figure at 0x16623ac8>"
      ]
     },
     "metadata": {},
     "output_type": "display_data"
    }
   ],
   "source": [
    "corr = train.select_dtypes(include = ['float64', 'int64']).iloc[:, 1:].corr()\n",
    "plt.figure(figsize=(5,5))\n",
    "sns.heatmap(corr,vmax=1,square=True,annot=False,cmap='Spectral')"
   ]
  },
  {
   "cell_type": "code",
   "execution_count": 59,
   "metadata": {},
   "outputs": [
    {
     "name": "stdout",
     "output_type": "stream",
     "text": [
      "List the numerical features decendingly by their correlation with Sale Price:\n",
      "\n",
      "Product_Category_1: \t-0.34370334591857254\n",
      "Product_Category_2: \t-0.20991848524374718\n",
      "Product_Category_3: \t-0.022005725564366797\n",
      "Occupation: \t0.020832616924618755\n",
      "Marital_Status: \t-0.000463376419760025\n"
     ]
    }
   ],
   "source": [
    "cor_dict = corr['Purchase'].to_dict()\n",
    "del cor_dict['Purchase']\n",
    "print(\"List the numerical features decendingly by their correlation with Sale Price:\\n\")\n",
    "for ele in sorted(cor_dict.items(), key = lambda x: -abs(x[1])):\n",
    "    print(\"{0}: \\t{1}\".format(*ele))"
   ]
  },
  {
   "cell_type": "code",
   "execution_count": 60,
   "metadata": {},
   "outputs": [
    {
     "data": {
      "text/plain": [
       "<matplotlib.axes._subplots.AxesSubplot at 0x14083d68>"
      ]
     },
     "execution_count": 60,
     "metadata": {},
     "output_type": "execute_result"
    },
    {
     "data": {
      "image/png": "[encoded data removed]",
      "text/plain": [
       "<matplotlib.figure.Figure at 0x11c25ef0>"
      ]
     },
     "metadata": {},
     "output_type": "display_data"
    }
   ],
   "source": [
    "#Analyzing Purhcase with Product_Category_1\n",
    "sns.boxplot(x=\"Product_Category_1\", y=\"Purchase\", data=train)"
   ]
  },
  {
   "cell_type": "code",
   "execution_count": 61,
   "metadata": {},
   "outputs": [
    {
     "data": {
      "text/plain": [
       "<matplotlib.axes._subplots.AxesSubplot at 0x12c9ee48>"
      ]
     },
     "execution_count": 61,
     "metadata": {},
     "output_type": "execute_result"
    },
    {
     "data": {
      "image/png": "[encoded data removed]",
      "text/plain": [
       "<matplotlib.figure.Figure at 0x14245e10>"
      ]
     },
     "metadata": {},
     "output_type": "display_data"
    }
   ],
   "source": [
    "#Analyzing Purhcase with Product_Category_2\n",
    "sns.boxplot(x=\"Product_Category_2\", y=\"Purchase\", data=train)"
   ]
  },
  {
   "cell_type": "code",
   "execution_count": 62,
   "metadata": {},
   "outputs": [
    {
     "data": {
      "text/plain": [
       "<matplotlib.axes._subplots.AxesSubplot at 0x12d92780>"
      ]
     },
     "execution_count": 62,
     "metadata": {},
     "output_type": "execute_result"
    },
    {
     "data": {
      "image/png": "[encoded data removed]",
      "text/plain": [
       "<matplotlib.figure.Figure at 0x142a5160>"
      ]
     },
     "metadata": {},
     "output_type": "display_data"
    }
   ],
   "source": [
    "#Analyzing Purhcase with Product_Category_3\n",
    "sns.boxplot(x=\"Product_Category_3\", y=\"Purchase\", data=train)"
   ]
  },
  {
   "cell_type": "markdown",
   "metadata": {},
   "source": [
    "<h2>Missing Value Treatment</h2>"
   ]
  },
  {
   "cell_type": "code",
   "execution_count": 36,
   "metadata": {},
   "outputs": [
    {
     "data": {
      "text/html": [
       "<div>\n",
       "<style>\n",
       "    .dataframe thead tr:only-child th {\n",
       "        text-align: right;\n",
       "    }\n",
       "\n",
       "    .dataframe thead th {\n",
       "        text-align: left;\n",
       "    }\n",
       "\n",
       "    .dataframe tbody tr th {\n",
       "        vertical-align: top;\n",
       "    }\n",
       "</style>\n",
       "<table border=\"1\" class=\"dataframe\">\n",
       "  <thead>\n",
       "    <tr style=\"text-align: right;\">\n",
       "      <th></th>\n",
       "      <th>Total</th>\n",
       "      <th>Percent</th>\n",
       "    </tr>\n",
       "  </thead>\n",
       "  <tbody>\n",
       "    <tr>\n",
       "      <th>Product_Category_3</th>\n",
       "      <td>383247</td>\n",
       "      <td>69.67</td>\n",
       "    </tr>\n",
       "    <tr>\n",
       "      <th>Product_Category_2</th>\n",
       "      <td>173638</td>\n",
       "      <td>31.57</td>\n",
       "    </tr>\n",
       "    <tr>\n",
       "      <th>Purchase</th>\n",
       "      <td>0</td>\n",
       "      <td>0.00</td>\n",
       "    </tr>\n",
       "    <tr>\n",
       "      <th>Product_Category_1</th>\n",
       "      <td>0</td>\n",
       "      <td>0.00</td>\n",
       "    </tr>\n",
       "    <tr>\n",
       "      <th>Marital_Status</th>\n",
       "      <td>0</td>\n",
       "      <td>0.00</td>\n",
       "    </tr>\n",
       "    <tr>\n",
       "      <th>Stay_In_Current_City_Years</th>\n",
       "      <td>0</td>\n",
       "      <td>0.00</td>\n",
       "    </tr>\n",
       "    <tr>\n",
       "      <th>City_Category</th>\n",
       "      <td>0</td>\n",
       "      <td>0.00</td>\n",
       "    </tr>\n",
       "    <tr>\n",
       "      <th>Occupation</th>\n",
       "      <td>0</td>\n",
       "      <td>0.00</td>\n",
       "    </tr>\n",
       "    <tr>\n",
       "      <th>Age</th>\n",
       "      <td>0</td>\n",
       "      <td>0.00</td>\n",
       "    </tr>\n",
       "    <tr>\n",
       "      <th>Gender</th>\n",
       "      <td>0</td>\n",
       "      <td>0.00</td>\n",
       "    </tr>\n",
       "    <tr>\n",
       "      <th>Product_ID</th>\n",
       "      <td>0</td>\n",
       "      <td>0.00</td>\n",
       "    </tr>\n",
       "    <tr>\n",
       "      <th>User_ID</th>\n",
       "      <td>0</td>\n",
       "      <td>0.00</td>\n",
       "    </tr>\n",
       "  </tbody>\n",
       "</table>\n",
       "</div>"
      ],
      "text/plain": [
       "                             Total  Percent\n",
       "Product_Category_3          383247    69.67\n",
       "Product_Category_2          173638    31.57\n",
       "Purchase                         0     0.00\n",
       "Product_Category_1               0     0.00\n",
       "Marital_Status                   0     0.00\n",
       "Stay_In_Current_City_Years       0     0.00\n",
       "City_Category                    0     0.00\n",
       "Occupation                       0     0.00\n",
       "Age                              0     0.00\n",
       "Gender                           0     0.00\n",
       "Product_ID                       0     0.00\n",
       "User_ID                          0     0.00"
      ]
     },
     "execution_count": 36,
     "metadata": {},
     "output_type": "execute_result"
    }
   ],
   "source": [
    "#######################################\n",
    "# --- Missing Data with Percentages ---\n",
    "#######################################\n",
    "\n",
    "total = train.isnull().sum().sort_values(ascending=False)\n",
    "percent = round(train.isnull().sum()/train.isnull().count() * 100, 2).sort_values(ascending=False)\n",
    "\n",
    "missing_data = pd.concat([total, percent], axis=1, keys=['Total', 'Percent'])\n",
    "missing_data.head(15)"
   ]
  },
  {
   "cell_type": "code",
   "execution_count": 37,
   "metadata": {
    "collapsed": true
   },
   "outputs": [],
   "source": [
    "### Dropping Prod_Cat2 and Prod_Cat3 (Because of High Percentage of Missing Values)\n",
    "\n",
    "train.drop(['Product_Category_2', 'Product_Category_3'], inplace=True, axis=1)\n",
    "test.drop(['Product_Category_2', 'Product_Category_3'], inplace=True, axis=1)"
   ]
  },
  {
   "cell_type": "markdown",
   "metadata": {},
   "source": [
    "<h2>Outlier Detection & Removal</h2>"
   ]
  },
  {
   "cell_type": "code",
   "execution_count": 66,
   "metadata": {},
   "outputs": [
    {
     "data": {
      "text/plain": [
       "<seaborn.axisgrid.FacetGrid at 0x13091198>"
      ]
     },
     "execution_count": 66,
     "metadata": {},
     "output_type": "execute_result"
    },
    {
     "data": {
      "image/png": "[encoded data removed]",
      "text/plain": [
       "<matplotlib.figure.Figure at 0x20ece668>"
      ]
     },
     "metadata": {},
     "output_type": "display_data"
    }
   ],
   "source": [
    "sns.lmplot(x=\"Product_Category_1\", y=\"Purchase\", data=train, fit_reg=False)"
   ]
  },
  {
   "cell_type": "markdown",
   "metadata": {},
   "source": [
    "<p>No Outlier detected </p>"
   ]
  },
  {
   "cell_type": "markdown",
   "metadata": {},
   "source": [
    "<h2>Variable Transformation</h2>"
   ]
  },
  {
   "cell_type": "code",
   "execution_count": 11,
   "metadata": {},
   "outputs": [
    {
     "data": {
      "image/png": "[encoded data removed]",
      "text/plain": [
       "<matplotlib.figure.Figure at 0x7fb0119cec50>"
      ]
     },
     "metadata": {},
     "output_type": "display_data"
    }
   ],
   "source": [
    "#Looking at the Distribution and Normal Probability Plot of 'Purchase'\n",
    "x=train['Purchase']\n",
    "f, ax = plt.subplots(nrows=1, ncols=2)\n",
    "f.set_figheight(4)\n",
    "f.set_figwidth(12)\n",
    "sns.distplot(x, bins=60, fit=norm, ax=ax[0])\n",
    "stats.probplot(x, plot=ax[1])\n",
    "plt.show()"
   ]
  },
  {
   "cell_type": "markdown",
   "metadata": {},
   "source": [
    "<p>Short Tails - An S shaped-curve indicates shorter than normal tails, i.e. less variance than expected.</p>"
   ]
  },
  {
   "cell_type": "code",
   "execution_count": 38,
   "metadata": {
    "collapsed": true
   },
   "outputs": [],
   "source": [
    "## converting age variable to numeric\n",
    "train['Age'] = train['Age'].map({'0-17':0, '18-25':1, '26-35':2, '36-45':3, '46-50':4, '51-55':5, '55+':6}).astype(int)\n",
    "test['Age'] = test['Age'].map({'0-17':0, '18-25':1, '26-35':2, '36-45':3, '46-50':4, '51-55':5, '55+':6}).astype(int)"
   ]
  },
  {
   "cell_type": "code",
   "execution_count": 39,
   "metadata": {
    "collapsed": true
   },
   "outputs": [],
   "source": [
    "# City to Numeric \n",
    "train['City_Category'] = train['City_Category'].map({'A':0, 'B':1, 'C':2}).astype(int)\n",
    "test['City_Category'] = test['City_Category'].map({'A':0, 'B':1, 'C':2}).astype(int)"
   ]
  },
  {
   "cell_type": "code",
   "execution_count": 40,
   "metadata": {
    "collapsed": true
   },
   "outputs": [],
   "source": [
    "# Converting gender to numeric\n",
    "train['Gender'] = train['Gender'].map({'F':0, 'M':1}).astype(int)\n",
    "test['Gender'] = test['Gender'].map({'F':0, 'M':1}).astype(int)"
   ]
  },
  {
   "cell_type": "code",
   "execution_count": 41,
   "metadata": {
    "collapsed": true
   },
   "outputs": [],
   "source": [
    "# Converting Stay_In_Current_City_Years  to numeric\n",
    "train['Stay_In_Current_City_Years'] = train['Stay_In_Current_City_Years'].map({'0':0, '1':1, '2':2, '3':3, '4+':4}).astype(int)\n",
    "test['Stay_In_Current_City_Years'] = test['Stay_In_Current_City_Years'].map({'0':0, '1':1, '2':2, '3':3, '4+':4}).astype(int)"
   ]
  },
  {
   "cell_type": "code",
   "execution_count": 42,
   "metadata": {
    "collapsed": true
   },
   "outputs": [],
   "source": [
    "# Label Encoding User_IDs\n",
    "le = LabelEncoder()\n",
    "train['User_ID'] = le.fit_transform(train['User_ID'])\n",
    "test['User_ID'] = le.transform(test['User_ID'])"
   ]
  },
  {
   "cell_type": "code",
   "execution_count": 43,
   "metadata": {},
   "outputs": [
    {
     "name": "stdout",
     "output_type": "stream",
     "text": [
      "Train Set(Unique ID): 3631\n",
      "Test Set(Unique ID): 3491\n"
     ]
    }
   ],
   "source": [
    "print(\"Train Set(Unique ID):\", len(train.Product_ID.unique()))  # 3631 unique values in train - Product_ID\n",
    "\n",
    "print(\"Test Set(Unique ID):\", len(test.Product_ID.unique()))    # 3491 unique values in train - Product_ID"
   ]
  },
  {
   "cell_type": "code",
   "execution_count": 44,
   "metadata": {
    "collapsed": true
   },
   "outputs": [],
   "source": [
    "# New Product IDs which are in Test set But not in Train set\n",
    "\n",
    "New_Product_IDs = list(set(test.Product_ID.unique()) - set(train.Product_ID.unique()))"
   ]
  },
  {
   "cell_type": "code",
   "execution_count": 45,
   "metadata": {},
   "outputs": [
    {
     "name": "stderr",
     "output_type": "stream",
     "text": [
      "/home/nbuser/anaconda3_501/lib/python3.6/site-packages/ipykernel/__main__.py:7: DeprecationWarning: \n",
      ".ix is deprecated. Please use\n",
      ".loc for label based indexing or\n",
      ".iloc for positional indexing\n",
      "\n",
      "See the documentation here:\n",
      "http://pandas.pydata.org/pandas-docs/stable/indexing.html#ix-indexer-is-deprecated\n"
     ]
    }
   ],
   "source": [
    "# Label Encoding Product_IDs\n",
    "\n",
    "le = LabelEncoder()\n",
    "\n",
    "train['Product_ID'] = le.fit_transform(train['Product_ID'])               # Transform the Train Product_IDs\n",
    "\n",
    "test.ix[test['Product_ID'].isin(New_Product_IDs), 'Product_ID'] = -1      # New Product_IDs in Test are set to -1\n",
    "New_Product_IDs.append(-1)                                                # Append -1 to New_Product_IDs\n",
    "\n",
    "test.ix[~test['Product_ID'].isin(New_Product_IDs), 'Product_ID'] = \\\n",
    "le.transform(test.ix[~test['Product_ID'].isin(New_Product_IDs), 'Product_ID'])  # Product_IDs in Test which are in Train\n",
    "                                                                                # are transformed according to Train_Data"
   ]
  },
  {
   "cell_type": "code",
   "execution_count": 46,
   "metadata": {},
   "outputs": [
    {
     "name": "stderr",
     "output_type": "stream",
     "text": [
      "/home/nbuser/anaconda3_501/lib/python3.6/site-packages/ipykernel/__main__.py:4: DeprecationWarning: \n",
      ".ix is deprecated. Please use\n",
      ".loc for label based indexing or\n",
      ".iloc for positional indexing\n",
      "\n",
      "See the documentation here:\n",
      "http://pandas.pydata.org/pandas-docs/stable/indexing.html#ix-indexer-is-deprecated\n"
     ]
    }
   ],
   "source": [
    "# Reducing boundaries to decrease RMSE\n",
    "\n",
    "cutoff_purchase = np.percentile(train['Purchase'], 99.9)    # 99.9 percentile\n",
    "train.ix[train['Purchase'] > cutoff_purchase, 'Purchase'] = cutoff_purchase"
   ]
  },
  {
   "cell_type": "markdown",
   "metadata": {},
   "source": [
    "<h2>Feature Engineering"
   ]
  },
  {
   "cell_type": "code",
   "execution_count": 47,
   "metadata": {
    "collapsed": true
   },
   "outputs": [],
   "source": [
    "def getCount(compute_df,count_df,var_name):\n",
    "    group_dict = dict(count_df[var_name].value_counts())\n",
    "    count_list = [] #empty list\n",
    "    for row in compute_df[var_name]:\n",
    "        count_list.append(group_dict[row])\n",
    "        \n",
    "    return count_list"
   ]
  },
  {
   "cell_type": "code",
   "execution_count": 48,
   "metadata": {
    "collapsed": true
   },
   "outputs": [],
   "source": [
    "train[\"Age_count\"] = getCount(train,train, \"Age\")\n",
    "test[\"Age_count\"] = getCount(test,train,\"Age\")\n",
    "\n",
    "train[\"Occupation_Count\"] = getCount(train,train, \"Occupation\")\n",
    "test[\"Occupation_Count\"] = getCount(test,train, \"Occupation\")\n",
    "\n",
    "train[\"Product_Category_1_Count\"] = getCount(train,train, \"Product_Category_1\")\n",
    "test[\"Product_Category_1_Count\"] = getCount(test,train, \"Product_Category_1\")\n",
    "\n",
    "train[\"User_ID_Count\"] = getCount(train,train, \"User_ID\")\n",
    "test[\"User_ID_Count\"] = getCount(test,train, \"User_ID\")\n"
   ]
  },
  {
   "cell_type": "code",
   "execution_count": 49,
   "metadata": {},
   "outputs": [
    {
     "data": {
      "text/html": [
       "<div>\n",
       "<style>\n",
       "    .dataframe thead tr:only-child th {\n",
       "        text-align: right;\n",
       "    }\n",
       "\n",
       "    .dataframe thead th {\n",
       "        text-align: left;\n",
       "    }\n",
       "\n",
       "    .dataframe tbody tr th {\n",
       "        vertical-align: top;\n",
       "    }\n",
       "</style>\n",
       "<table border=\"1\" class=\"dataframe\">\n",
       "  <thead>\n",
       "    <tr style=\"text-align: right;\">\n",
       "      <th></th>\n",
       "      <th>User_ID</th>\n",
       "      <th>Product_ID</th>\n",
       "      <th>Gender</th>\n",
       "      <th>Age</th>\n",
       "      <th>Occupation</th>\n",
       "      <th>City_Category</th>\n",
       "      <th>Stay_In_Current_City_Years</th>\n",
       "      <th>Marital_Status</th>\n",
       "      <th>Product_Category_1</th>\n",
       "      <th>Purchase</th>\n",
       "      <th>Age_count</th>\n",
       "      <th>Occupation_Count</th>\n",
       "      <th>Product_Category_1_Count</th>\n",
       "      <th>User_ID_Count</th>\n",
       "    </tr>\n",
       "  </thead>\n",
       "  <tbody>\n",
       "    <tr>\n",
       "      <th>0</th>\n",
       "      <td>0</td>\n",
       "      <td>672</td>\n",
       "      <td>0</td>\n",
       "      <td>0</td>\n",
       "      <td>10</td>\n",
       "      <td>0</td>\n",
       "      <td>2</td>\n",
       "      <td>0</td>\n",
       "      <td>3</td>\n",
       "      <td>8370.0</td>\n",
       "      <td>15102</td>\n",
       "      <td>12930</td>\n",
       "      <td>20213</td>\n",
       "      <td>35</td>\n",
       "    </tr>\n",
       "    <tr>\n",
       "      <th>1</th>\n",
       "      <td>0</td>\n",
       "      <td>2376</td>\n",
       "      <td>0</td>\n",
       "      <td>0</td>\n",
       "      <td>10</td>\n",
       "      <td>0</td>\n",
       "      <td>2</td>\n",
       "      <td>0</td>\n",
       "      <td>1</td>\n",
       "      <td>15200.0</td>\n",
       "      <td>15102</td>\n",
       "      <td>12930</td>\n",
       "      <td>140378</td>\n",
       "      <td>35</td>\n",
       "    </tr>\n",
       "    <tr>\n",
       "      <th>2</th>\n",
       "      <td>0</td>\n",
       "      <td>852</td>\n",
       "      <td>0</td>\n",
       "      <td>0</td>\n",
       "      <td>10</td>\n",
       "      <td>0</td>\n",
       "      <td>2</td>\n",
       "      <td>0</td>\n",
       "      <td>12</td>\n",
       "      <td>1422.0</td>\n",
       "      <td>15102</td>\n",
       "      <td>12930</td>\n",
       "      <td>3947</td>\n",
       "      <td>35</td>\n",
       "    </tr>\n",
       "    <tr>\n",
       "      <th>3</th>\n",
       "      <td>0</td>\n",
       "      <td>828</td>\n",
       "      <td>0</td>\n",
       "      <td>0</td>\n",
       "      <td>10</td>\n",
       "      <td>0</td>\n",
       "      <td>2</td>\n",
       "      <td>0</td>\n",
       "      <td>12</td>\n",
       "      <td>1057.0</td>\n",
       "      <td>15102</td>\n",
       "      <td>12930</td>\n",
       "      <td>3947</td>\n",
       "      <td>35</td>\n",
       "    </tr>\n",
       "    <tr>\n",
       "      <th>4</th>\n",
       "      <td>1</td>\n",
       "      <td>2734</td>\n",
       "      <td>1</td>\n",
       "      <td>6</td>\n",
       "      <td>16</td>\n",
       "      <td>2</td>\n",
       "      <td>4</td>\n",
       "      <td>0</td>\n",
       "      <td>8</td>\n",
       "      <td>7969.0</td>\n",
       "      <td>21504</td>\n",
       "      <td>25371</td>\n",
       "      <td>113925</td>\n",
       "      <td>77</td>\n",
       "    </tr>\n",
       "  </tbody>\n",
       "</table>\n",
       "</div>"
      ],
      "text/plain": [
       "   User_ID  Product_ID  Gender  Age  Occupation  City_Category  \\\n",
       "0        0         672       0    0          10              0   \n",
       "1        0        2376       0    0          10              0   \n",
       "2        0         852       0    0          10              0   \n",
       "3        0         828       0    0          10              0   \n",
       "4        1        2734       1    6          16              2   \n",
       "\n",
       "   Stay_In_Current_City_Years  Marital_Status  Product_Category_1  Purchase  \\\n",
       "0                           2               0                   3    8370.0   \n",
       "1                           2               0                   1   15200.0   \n",
       "2                           2               0                  12    1422.0   \n",
       "3                           2               0                  12    1057.0   \n",
       "4                           4               0                   8    7969.0   \n",
       "\n",
       "   Age_count  Occupation_Count  Product_Category_1_Count  User_ID_Count  \n",
       "0      15102             12930                     20213             35  \n",
       "1      15102             12930                    140378             35  \n",
       "2      15102             12930                      3947             35  \n",
       "3      15102             12930                      3947             35  \n",
       "4      21504             25371                    113925             77  "
      ]
     },
     "execution_count": 49,
     "metadata": {},
     "output_type": "execute_result"
    }
   ],
   "source": [
    "train.head()"
   ]
  },
  {
   "cell_type": "code",
   "execution_count": 50,
   "metadata": {
    "collapsed": true
   },
   "outputs": [],
   "source": [
    "def getPurchaseVar(compute_df, purchase_df, var_name):\n",
    "    \n",
    "    group = purchase_df.groupby(var_name)['Purchase']\n",
    "    \n",
    "    max_dict = dict(group.max())\n",
    "    min_dict = dict(group.min())\n",
    "    mean_dict = dict(group.mean())\n",
    "    twentyfive_dict = dict(group.quantile(0.25))\n",
    "    seventyfive_dict = dict(group.quantile(0.75))\n",
    "        \n",
    "    min_list = []\n",
    "    max_list = []\n",
    "    mean_list = []\n",
    "    twentyfive_list = []\n",
    "    seventyfive_list = []\n",
    "        \n",
    "    for row in compute_df[var_name]:\n",
    "\n",
    "        min_list.append(min_dict.get(row))\n",
    "        max_list.append(max_dict.get(row))\n",
    "        mean_list.append(mean_dict.get(row))\n",
    "        twentyfive_list.append(twentyfive_dict.get(row))\n",
    "        seventyfive_list.append(seventyfive_dict.get(row))\n",
    "\n",
    "    return min_list, max_list, mean_list, twentyfive_list, seventyfive_list"
   ]
  },
  {
   "cell_type": "code",
   "execution_count": 51,
   "metadata": {
    "collapsed": true
   },
   "outputs": [],
   "source": [
    "# User_ID\n",
    "\n",
    "min_price_list, max_price_list, mean_price_list, twentyfive_price_list, seventyfive_price_list =\\\n",
    "getPurchaseVar(train,train, \"User_ID\")\n",
    "        \n",
    "train[\"User_ID_MinPrice\"] = min_price_list\n",
    "train[\"User_ID_MaxPrice\"] = max_price_list\n",
    "train[\"User_ID_MeanPrice\"] = mean_price_list\n",
    "train[\"User_ID_25PercPrice\"] = twentyfive_price_list\n",
    "train[\"User_ID_75PercPrice\"] = seventyfive_price_list\n",
    "\n",
    "\n",
    "min_price_list, max_price_list, mean_price_list, twentyfive_price_list, seventyfive_price_list = \\\n",
    "getPurchaseVar(test, train, \"User_ID\")\n",
    "\n",
    "test[\"User_ID_MinPrice\"] = min_price_list\n",
    "test[\"User_ID_MaxPrice\"] = max_price_list\n",
    "test[\"User_ID_MeanPrice\"] = mean_price_list\n",
    "test[\"User_ID_25PercPrice\"] = twentyfive_price_list\n",
    "test[\"User_ID_75PercPrice\"] = seventyfive_price_list"
   ]
  },
  {
   "cell_type": "code",
   "execution_count": 52,
   "metadata": {
    "collapsed": true
   },
   "outputs": [],
   "source": [
    "# Product_ID\n",
    "\n",
    "min_price_list, max_price_list, mean_price_list, twentyfive_price_list, seventyfive_price_list = \\\n",
    "getPurchaseVar(train,train, \"Product_ID\")\n",
    "\n",
    "train[\"Product_ID_MinPrice\"] = min_price_list\n",
    "train[\"Product_ID_MaxPrice\"] = max_price_list\n",
    "train[\"Product_ID_MeanPrice\"] = mean_price_list\n",
    "train[\"Product_ID_25PercPrice\"] = twentyfive_price_list\n",
    "train[\"Product_ID_75PercPrice\"] = seventyfive_price_list\n",
    "\n",
    "\n",
    "min_price_list, max_price_list, mean_price_list, twentyfive_price_list, seventyfive_price_list = \\\n",
    "getPurchaseVar(test,train, \"Product_ID\")\n",
    "\n",
    "test[\"Product_ID_MinPrice\"] = min_price_list\n",
    "test[\"Product_ID_MaxPrice\"] = max_price_list\n",
    "test[\"Product_ID_MeanPrice\"] = mean_price_list\n",
    "test[\"Product_ID_25PercPrice\"] = twentyfive_price_list\n",
    "test[\"Product_ID_75PercPrice\"] = seventyfive_price_list"
   ]
  },
  {
   "cell_type": "code",
   "execution_count": 53,
   "metadata": {
    "collapsed": true
   },
   "outputs": [],
   "source": [
    "# Product_Category_1\n",
    "\n",
    "min_price_list, max_price_list, mean_price_list, twentyfive_price_list, seventyfive_price_list = \\\n",
    "getPurchaseVar(train,train, \"Product_Category_1\")\n",
    "\n",
    "train[\"Product_Category_1_MinPrice\"] = min_price_list\n",
    "train[\"Product_Category_1_MaxPrice\"] = max_price_list\n",
    "train[\"Product_Category_1_MeanPrice\"] = mean_price_list\n",
    "train[\"Product_Category_1_25PercPrice\"] = twentyfive_price_list\n",
    "train[\"Product_Category_1_75PercPrice\"] = seventyfive_price_list\n",
    "\n",
    "\n",
    "min_price_list, max_price_list, mean_price_list, twentyfive_price_list, seventyfive_price_list = \\\n",
    "getPurchaseVar(test,train, \"Product_Category_1\")\n",
    "\n",
    "test[\"Product_Category_1_MinPrice\"] = min_price_list\n",
    "test[\"Product_Category_1_MaxPrice\"] = max_price_list\n",
    "test[\"Product_Category_1_MeanPrice\"] = mean_price_list\n",
    "test[\"Product_Category_1_25PercPrice\"] = twentyfive_price_list\n",
    "test[\"Product_Category_1_75PercPrice\"] = seventyfive_price_list"
   ]
  },
  {
   "cell_type": "code",
   "execution_count": 54,
   "metadata": {},
   "outputs": [
    {
     "data": {
      "text/html": [
       "<div>\n",
       "<style>\n",
       "    .dataframe thead tr:only-child th {\n",
       "        text-align: right;\n",
       "    }\n",
       "\n",
       "    .dataframe thead th {\n",
       "        text-align: left;\n",
       "    }\n",
       "\n",
       "    .dataframe tbody tr th {\n",
       "        vertical-align: top;\n",
       "    }\n",
       "</style>\n",
       "<table border=\"1\" class=\"dataframe\">\n",
       "  <thead>\n",
       "    <tr style=\"text-align: right;\">\n",
       "      <th></th>\n",
       "      <th>User_ID</th>\n",
       "      <th>Product_ID</th>\n",
       "      <th>Gender</th>\n",
       "      <th>Age</th>\n",
       "      <th>Occupation</th>\n",
       "      <th>City_Category</th>\n",
       "      <th>Stay_In_Current_City_Years</th>\n",
       "      <th>Marital_Status</th>\n",
       "      <th>Product_Category_1</th>\n",
       "      <th>Purchase</th>\n",
       "      <th>...</th>\n",
       "      <th>Product_ID_MinPrice</th>\n",
       "      <th>Product_ID_MaxPrice</th>\n",
       "      <th>Product_ID_MeanPrice</th>\n",
       "      <th>Product_ID_25PercPrice</th>\n",
       "      <th>Product_ID_75PercPrice</th>\n",
       "      <th>Product_Category_1_MinPrice</th>\n",
       "      <th>Product_Category_1_MaxPrice</th>\n",
       "      <th>Product_Category_1_MeanPrice</th>\n",
       "      <th>Product_Category_1_25PercPrice</th>\n",
       "      <th>Product_Category_1_75PercPrice</th>\n",
       "    </tr>\n",
       "  </thead>\n",
       "  <tbody>\n",
       "    <tr>\n",
       "      <th>0</th>\n",
       "      <td>0</td>\n",
       "      <td>672</td>\n",
       "      <td>0</td>\n",
       "      <td>0</td>\n",
       "      <td>10</td>\n",
       "      <td>0</td>\n",
       "      <td>2</td>\n",
       "      <td>0</td>\n",
       "      <td>3</td>\n",
       "      <td>8370.0</td>\n",
       "      <td>...</td>\n",
       "      <td>2648.0</td>\n",
       "      <td>13716.0</td>\n",
       "      <td>11870.863436</td>\n",
       "      <td>10804.00</td>\n",
       "      <td>13475.50</td>\n",
       "      <td>2638.0</td>\n",
       "      <td>13717.0</td>\n",
       "      <td>10096.705734</td>\n",
       "      <td>8198.0</td>\n",
       "      <td>13211.0</td>\n",
       "    </tr>\n",
       "    <tr>\n",
       "      <th>1</th>\n",
       "      <td>0</td>\n",
       "      <td>2376</td>\n",
       "      <td>0</td>\n",
       "      <td>0</td>\n",
       "      <td>10</td>\n",
       "      <td>0</td>\n",
       "      <td>2</td>\n",
       "      <td>0</td>\n",
       "      <td>1</td>\n",
       "      <td>15200.0</td>\n",
       "      <td>...</td>\n",
       "      <td>3880.0</td>\n",
       "      <td>19701.0</td>\n",
       "      <td>16304.030981</td>\n",
       "      <td>15312.00</td>\n",
       "      <td>19264.00</td>\n",
       "      <td>3790.0</td>\n",
       "      <td>19708.0</td>\n",
       "      <td>13606.218596</td>\n",
       "      <td>11546.0</td>\n",
       "      <td>15812.0</td>\n",
       "    </tr>\n",
       "    <tr>\n",
       "      <th>2</th>\n",
       "      <td>0</td>\n",
       "      <td>852</td>\n",
       "      <td>0</td>\n",
       "      <td>0</td>\n",
       "      <td>10</td>\n",
       "      <td>0</td>\n",
       "      <td>2</td>\n",
       "      <td>0</td>\n",
       "      <td>12</td>\n",
       "      <td>1422.0</td>\n",
       "      <td>...</td>\n",
       "      <td>343.0</td>\n",
       "      <td>1776.0</td>\n",
       "      <td>1237.892157</td>\n",
       "      <td>1043.75</td>\n",
       "      <td>1423.75</td>\n",
       "      <td>342.0</td>\n",
       "      <td>1778.0</td>\n",
       "      <td>1350.859894</td>\n",
       "      <td>1071.0</td>\n",
       "      <td>1723.0</td>\n",
       "    </tr>\n",
       "    <tr>\n",
       "      <th>3</th>\n",
       "      <td>0</td>\n",
       "      <td>828</td>\n",
       "      <td>0</td>\n",
       "      <td>0</td>\n",
       "      <td>10</td>\n",
       "      <td>0</td>\n",
       "      <td>2</td>\n",
       "      <td>0</td>\n",
       "      <td>12</td>\n",
       "      <td>1057.0</td>\n",
       "      <td>...</td>\n",
       "      <td>365.0</td>\n",
       "      <td>1778.0</td>\n",
       "      <td>1455.140762</td>\n",
       "      <td>1378.00</td>\n",
       "      <td>1736.00</td>\n",
       "      <td>342.0</td>\n",
       "      <td>1778.0</td>\n",
       "      <td>1350.859894</td>\n",
       "      <td>1071.0</td>\n",
       "      <td>1723.0</td>\n",
       "    </tr>\n",
       "    <tr>\n",
       "      <th>4</th>\n",
       "      <td>1</td>\n",
       "      <td>2734</td>\n",
       "      <td>1</td>\n",
       "      <td>6</td>\n",
       "      <td>16</td>\n",
       "      <td>2</td>\n",
       "      <td>4</td>\n",
       "      <td>0</td>\n",
       "      <td>8</td>\n",
       "      <td>7969.0</td>\n",
       "      <td>...</td>\n",
       "      <td>3920.0</td>\n",
       "      <td>10073.0</td>\n",
       "      <td>7692.763547</td>\n",
       "      <td>6174.50</td>\n",
       "      <td>8082.50</td>\n",
       "      <td>1939.0</td>\n",
       "      <td>10082.0</td>\n",
       "      <td>7498.958078</td>\n",
       "      <td>6036.0</td>\n",
       "      <td>9722.0</td>\n",
       "    </tr>\n",
       "  </tbody>\n",
       "</table>\n",
       "<p>5 rows × 29 columns</p>\n",
       "</div>"
      ],
      "text/plain": [
       "   User_ID  Product_ID  Gender  Age  Occupation  City_Category  \\\n",
       "0        0         672       0    0          10              0   \n",
       "1        0        2376       0    0          10              0   \n",
       "2        0         852       0    0          10              0   \n",
       "3        0         828       0    0          10              0   \n",
       "4        1        2734       1    6          16              2   \n",
       "\n",
       "   Stay_In_Current_City_Years  Marital_Status  Product_Category_1  Purchase  \\\n",
       "0                           2               0                   3    8370.0   \n",
       "1                           2               0                   1   15200.0   \n",
       "2                           2               0                  12    1422.0   \n",
       "3                           2               0                  12    1057.0   \n",
       "4                           4               0                   8    7969.0   \n",
       "\n",
       "                ...                Product_ID_MinPrice  Product_ID_MaxPrice  \\\n",
       "0               ...                             2648.0              13716.0   \n",
       "1               ...                             3880.0              19701.0   \n",
       "2               ...                              343.0               1776.0   \n",
       "3               ...                              365.0               1778.0   \n",
       "4               ...                             3920.0              10073.0   \n",
       "\n",
       "   Product_ID_MeanPrice  Product_ID_25PercPrice  Product_ID_75PercPrice  \\\n",
       "0          11870.863436                10804.00                13475.50   \n",
       "1          16304.030981                15312.00                19264.00   \n",
       "2           1237.892157                 1043.75                 1423.75   \n",
       "3           1455.140762                 1378.00                 1736.00   \n",
       "4           7692.763547                 6174.50                 8082.50   \n",
       "\n",
       "   Product_Category_1_MinPrice  Product_Category_1_MaxPrice  \\\n",
       "0                       2638.0                      13717.0   \n",
       "1                       3790.0                      19708.0   \n",
       "2                        342.0                       1778.0   \n",
       "3                        342.0                       1778.0   \n",
       "4                       1939.0                      10082.0   \n",
       "\n",
       "   Product_Category_1_MeanPrice  Product_Category_1_25PercPrice  \\\n",
       "0                  10096.705734                          8198.0   \n",
       "1                  13606.218596                         11546.0   \n",
       "2                   1350.859894                          1071.0   \n",
       "3                   1350.859894                          1071.0   \n",
       "4                   7498.958078                          6036.0   \n",
       "\n",
       "   Product_Category_1_75PercPrice  \n",
       "0                         13211.0  \n",
       "1                         15812.0  \n",
       "2                          1723.0  \n",
       "3                          1723.0  \n",
       "4                          9722.0  \n",
       "\n",
       "[5 rows x 29 columns]"
      ]
     },
     "execution_count": 54,
     "metadata": {},
     "output_type": "execute_result"
    }
   ],
   "source": [
    "train.head()"
   ]
  },
  {
   "cell_type": "code",
   "execution_count": 55,
   "metadata": {},
   "outputs": [
    {
     "data": {
      "text/html": [
       "<div>\n",
       "<style>\n",
       "    .dataframe thead tr:only-child th {\n",
       "        text-align: right;\n",
       "    }\n",
       "\n",
       "    .dataframe thead th {\n",
       "        text-align: left;\n",
       "    }\n",
       "\n",
       "    .dataframe tbody tr th {\n",
       "        vertical-align: top;\n",
       "    }\n",
       "</style>\n",
       "<table border=\"1\" class=\"dataframe\">\n",
       "  <thead>\n",
       "    <tr style=\"text-align: right;\">\n",
       "      <th></th>\n",
       "      <th>User_ID</th>\n",
       "      <th>Product_ID</th>\n",
       "      <th>Gender</th>\n",
       "      <th>Age</th>\n",
       "      <th>Occupation</th>\n",
       "      <th>City_Category</th>\n",
       "      <th>Stay_In_Current_City_Years</th>\n",
       "      <th>Marital_Status</th>\n",
       "      <th>Product_Category_1</th>\n",
       "      <th>Age_count</th>\n",
       "      <th>...</th>\n",
       "      <th>Product_ID_MinPrice</th>\n",
       "      <th>Product_ID_MaxPrice</th>\n",
       "      <th>Product_ID_MeanPrice</th>\n",
       "      <th>Product_ID_25PercPrice</th>\n",
       "      <th>Product_ID_75PercPrice</th>\n",
       "      <th>Product_Category_1_MinPrice</th>\n",
       "      <th>Product_Category_1_MaxPrice</th>\n",
       "      <th>Product_Category_1_MeanPrice</th>\n",
       "      <th>Product_Category_1_25PercPrice</th>\n",
       "      <th>Product_Category_1_75PercPrice</th>\n",
       "    </tr>\n",
       "  </thead>\n",
       "  <tbody>\n",
       "    <tr>\n",
       "      <th>0</th>\n",
       "      <td>3</td>\n",
       "      <td>1196</td>\n",
       "      <td>1</td>\n",
       "      <td>4</td>\n",
       "      <td>7</td>\n",
       "      <td>1</td>\n",
       "      <td>2</td>\n",
       "      <td>1</td>\n",
       "      <td>1</td>\n",
       "      <td>45701</td>\n",
       "      <td>...</td>\n",
       "      <td>3933.0</td>\n",
       "      <td>19708.0</td>\n",
       "      <td>15781.118590</td>\n",
       "      <td>12067.50</td>\n",
       "      <td>19248.50</td>\n",
       "      <td>3790.0</td>\n",
       "      <td>19708.0</td>\n",
       "      <td>13606.218596</td>\n",
       "      <td>11546.0</td>\n",
       "      <td>15812.0</td>\n",
       "    </tr>\n",
       "    <tr>\n",
       "      <th>1</th>\n",
       "      <td>8</td>\n",
       "      <td>1043</td>\n",
       "      <td>1</td>\n",
       "      <td>2</td>\n",
       "      <td>17</td>\n",
       "      <td>2</td>\n",
       "      <td>0</td>\n",
       "      <td>0</td>\n",
       "      <td>3</td>\n",
       "      <td>219587</td>\n",
       "      <td>...</td>\n",
       "      <td>3077.0</td>\n",
       "      <td>13714.0</td>\n",
       "      <td>11746.665354</td>\n",
       "      <td>10731.25</td>\n",
       "      <td>13493.25</td>\n",
       "      <td>2638.0</td>\n",
       "      <td>13717.0</td>\n",
       "      <td>10096.705734</td>\n",
       "      <td>8198.0</td>\n",
       "      <td>13211.0</td>\n",
       "    </tr>\n",
       "    <tr>\n",
       "      <th>2</th>\n",
       "      <td>9</td>\n",
       "      <td>2764</td>\n",
       "      <td>0</td>\n",
       "      <td>3</td>\n",
       "      <td>1</td>\n",
       "      <td>1</td>\n",
       "      <td>4</td>\n",
       "      <td>1</td>\n",
       "      <td>5</td>\n",
       "      <td>110013</td>\n",
       "      <td>...</td>\n",
       "      <td>1734.0</td>\n",
       "      <td>8900.0</td>\n",
       "      <td>5731.338028</td>\n",
       "      <td>5147.00</td>\n",
       "      <td>7027.00</td>\n",
       "      <td>1713.0</td>\n",
       "      <td>8907.0</td>\n",
       "      <td>6240.088178</td>\n",
       "      <td>5242.0</td>\n",
       "      <td>7156.0</td>\n",
       "    </tr>\n",
       "    <tr>\n",
       "      <th>3</th>\n",
       "      <td>9</td>\n",
       "      <td>1358</td>\n",
       "      <td>0</td>\n",
       "      <td>3</td>\n",
       "      <td>1</td>\n",
       "      <td>1</td>\n",
       "      <td>4</td>\n",
       "      <td>1</td>\n",
       "      <td>4</td>\n",
       "      <td>110013</td>\n",
       "      <td>...</td>\n",
       "      <td>813.0</td>\n",
       "      <td>3526.0</td>\n",
       "      <td>1943.266667</td>\n",
       "      <td>1459.00</td>\n",
       "      <td>2129.50</td>\n",
       "      <td>684.0</td>\n",
       "      <td>3556.0</td>\n",
       "      <td>2329.659491</td>\n",
       "      <td>2058.0</td>\n",
       "      <td>2837.0</td>\n",
       "    </tr>\n",
       "    <tr>\n",
       "      <th>4</th>\n",
       "      <td>10</td>\n",
       "      <td>529</td>\n",
       "      <td>0</td>\n",
       "      <td>2</td>\n",
       "      <td>1</td>\n",
       "      <td>2</td>\n",
       "      <td>1</td>\n",
       "      <td>0</td>\n",
       "      <td>4</td>\n",
       "      <td>219587</td>\n",
       "      <td>...</td>\n",
       "      <td>684.0</td>\n",
       "      <td>3556.0</td>\n",
       "      <td>2585.590829</td>\n",
       "      <td>2115.00</td>\n",
       "      <td>3421.50</td>\n",
       "      <td>684.0</td>\n",
       "      <td>3556.0</td>\n",
       "      <td>2329.659491</td>\n",
       "      <td>2058.0</td>\n",
       "      <td>2837.0</td>\n",
       "    </tr>\n",
       "  </tbody>\n",
       "</table>\n",
       "<p>5 rows × 28 columns</p>\n",
       "</div>"
      ],
      "text/plain": [
       "   User_ID  Product_ID  Gender  Age  Occupation  City_Category  \\\n",
       "0        3        1196       1    4           7              1   \n",
       "1        8        1043       1    2          17              2   \n",
       "2        9        2764       0    3           1              1   \n",
       "3        9        1358       0    3           1              1   \n",
       "4       10         529       0    2           1              2   \n",
       "\n",
       "   Stay_In_Current_City_Years  Marital_Status  Product_Category_1  Age_count  \\\n",
       "0                           2               1                   1      45701   \n",
       "1                           0               0                   3     219587   \n",
       "2                           4               1                   5     110013   \n",
       "3                           4               1                   4     110013   \n",
       "4                           1               0                   4     219587   \n",
       "\n",
       "                ...                Product_ID_MinPrice  Product_ID_MaxPrice  \\\n",
       "0               ...                             3933.0              19708.0   \n",
       "1               ...                             3077.0              13714.0   \n",
       "2               ...                             1734.0               8900.0   \n",
       "3               ...                              813.0               3526.0   \n",
       "4               ...                              684.0               3556.0   \n",
       "\n",
       "   Product_ID_MeanPrice  Product_ID_25PercPrice  Product_ID_75PercPrice  \\\n",
       "0          15781.118590                12067.50                19248.50   \n",
       "1          11746.665354                10731.25                13493.25   \n",
       "2           5731.338028                 5147.00                 7027.00   \n",
       "3           1943.266667                 1459.00                 2129.50   \n",
       "4           2585.590829                 2115.00                 3421.50   \n",
       "\n",
       "   Product_Category_1_MinPrice  Product_Category_1_MaxPrice  \\\n",
       "0                       3790.0                      19708.0   \n",
       "1                       2638.0                      13717.0   \n",
       "2                       1713.0                       8907.0   \n",
       "3                        684.0                       3556.0   \n",
       "4                        684.0                       3556.0   \n",
       "\n",
       "   Product_Category_1_MeanPrice  Product_Category_1_25PercPrice  \\\n",
       "0                  13606.218596                         11546.0   \n",
       "1                  10096.705734                          8198.0   \n",
       "2                   6240.088178                          5242.0   \n",
       "3                   2329.659491                          2058.0   \n",
       "4                   2329.659491                          2058.0   \n",
       "\n",
       "   Product_Category_1_75PercPrice  \n",
       "0                         15812.0  \n",
       "1                         13211.0  \n",
       "2                          7156.0  \n",
       "3                          2837.0  \n",
       "4                          2837.0  \n",
       "\n",
       "[5 rows x 28 columns]"
      ]
     },
     "execution_count": 55,
     "metadata": {},
     "output_type": "execute_result"
    }
   ],
   "source": [
    "test.head()"
   ]
  },
  {
   "cell_type": "code",
   "execution_count": 36,
   "metadata": {
    "collapsed": true
   },
   "outputs": [],
   "source": [
    "train.to_csv('train_feature.csv',index=False)\n",
    "test.to_csv('test_feature.csv',index=False)"
   ]
  },
  {
   "cell_type": "markdown",
   "metadata": {},
   "source": [
    "<h2>Modelling</h2>"
   ]
  },
  {
   "cell_type": "code",
   "execution_count": 64,
   "metadata": {},
   "outputs": [
    {
     "name": "stdout",
     "output_type": "stream",
     "text": [
      "Collecting xgboost\n",
      "  Using cached xgboost-0.6a2.tar.gz\n",
      "Requirement already satisfied: numpy in /home/nbcommon/anaconda3_501/lib/python3.6/site-packages (from xgboost)\n",
      "Requirement already satisfied: scipy in /home/nbcommon/anaconda3_501/lib/python3.6/site-packages (from xgboost)\n",
      "Requirement already satisfied: scikit-learn in /home/nbcommon/anaconda3_501/lib/python3.6/site-packages (from xgboost)\n",
      "Building wheels for collected packages: xgboost\n",
      "  Running setup.py bdist_wheel for xgboost ... \u001b[?25ldone\n",
      "\u001b[?25h  Stored in directory: /home/nbuser/.cache/pip/wheels/5e/c1/d6/522af54e5cc001fad4dd855117f8bf61b11d56443e06672e26\n",
      "Successfully built xgboost\n",
      "Installing collected packages: xgboost\n",
      "Successfully installed xgboost-0.6a2\n"
     ]
    }
   ],
   "source": [
    "!pip install xgboost"
   ]
  },
  {
   "cell_type": "code",
   "execution_count": 100,
   "metadata": {},
   "outputs": [
    {
     "name": "stderr",
     "output_type": "stream",
     "text": [
      "/home/nbuser/anaconda3_501/lib/python3.6/site-packages/ipykernel/__main__.py:6: SettingWithCopyWarning: \n",
      "A value is trying to be set on a copy of a slice from a DataFrame\n",
      "\n",
      "See the caveats in the documentation: http://pandas.pydata.org/pandas-docs/stable/indexing.html#indexing-view-versus-copy\n"
     ]
    }
   ],
   "source": [
    "#Labelling dataset\n",
    "X = train[:]\n",
    "y = train['Purchase']\n",
    "\n",
    "# Dropping Purchase from Feature Matrix i.e train data which is now stored in X\n",
    "X.drop([\"Purchase\"], axis=1, inplace=True)"
   ]
  },
  {
   "cell_type": "code",
   "execution_count": 101,
   "metadata": {
    "collapsed": true
   },
   "outputs": [],
   "source": [
    "import xgboost as xgb\n",
    "dtrain = xgb.DMatrix(X.values, label = y, missing=np.nan)\n",
    "\n",
    "param = {'objective': 'reg:linear', 'booster': 'gbtree', 'silent': 1,\n",
    "         'max_depth': 10, 'eta': 0.1, 'nthread': 4,\n",
    "         'subsample': 0.8, 'colsample_bytree': 0.8, 'min_child_weight': 20,\n",
    "         'max_delta_step': 0, 'gamma': 0}\n",
    "\n",
    "num_round = 690"
   ]
  },
  {
   "cell_type": "code",
   "execution_count": 102,
   "metadata": {
    "collapsed": true
   },
   "outputs": [],
   "source": [
    "seeds = [1122, 2244, 3366, 4488, 5500]\n",
    "y_pred = np.zeros((len(test), len(seeds)))"
   ]
  },
  {
   "cell_type": "code",
   "execution_count": 103,
   "metadata": {},
   "outputs": [
    {
     "name": "stdout",
     "output_type": "stream",
     "text": [
      "XGB RUN:5/5"
     ]
    }
   ],
   "source": [
    "for run in range(len(seeds)):\n",
    "    sys.stdout.write(\"\\rXGB RUN:{}/{}\".format(run+1, len(seeds)))\n",
    "    sys.stdout.flush()\n",
    "    param['seed'] = seeds[run]\n",
    "    clf = xgb.train(param, dtrain, num_round)\n",
    "    dtest = xgb.DMatrix(test.values, missing=np.nan)\n",
    "    y_pred[:, run] = clf.predict(dtest)"
   ]
  },
  {
   "cell_type": "code",
   "execution_count": 104,
   "metadata": {
    "collapsed": true
   },
   "outputs": [],
   "source": [
    "y_pred = np.mean(y_pred, axis=1)"
   ]
  },
  {
   "cell_type": "code",
   "execution_count": 105,
   "metadata": {
    "collapsed": true
   },
   "outputs": [],
   "source": [
    "# Submission file\n",
    "\n",
    "submit = pd.DataFrame({'User_ID': ids_test, 'Product_ID': product_ids_test, 'Purchase': y_pred})\n",
    "submit = submit[['User_ID', 'Product_ID', 'Purchase']]"
   ]
  },
  {
   "cell_type": "code",
   "execution_count": 106,
   "metadata": {},
   "outputs": [
    {
     "name": "stderr",
     "output_type": "stream",
     "text": [
      "/home/nbuser/anaconda3_501/lib/python3.6/site-packages/ipykernel/__main__.py:1: DeprecationWarning: \n",
      ".ix is deprecated. Please use\n",
      ".loc for label based indexing or\n",
      ".iloc for positional indexing\n",
      "\n",
      "See the documentation here:\n",
      "http://pandas.pydata.org/pandas-docs/stable/indexing.html#ix-indexer-is-deprecated\n",
      "  if __name__ == '__main__':\n"
     ]
    }
   ],
   "source": [
    "submit.ix[submit['Purchase'] < 0, 'Purchase'] = 12  # changing min prediction to min value in train\n",
    "submit.to_csv(\"final_solution.csv\", index=False)"
   ]
  },
  {
   "cell_type": "code",
   "execution_count": 98,
   "metadata": {},
   "outputs": [
    {
     "name": "stderr",
     "output_type": "stream",
     "text": [
      "D:\\Anaconda\\lib\\site-packages\\ipykernel_launcher.py:6: SettingWithCopyWarning: \n",
      "A value is trying to be set on a copy of a slice from a DataFrame\n",
      "\n",
      "See the caveats in the documentation: http://pandas.pydata.org/pandas-docs/stable/indexing.html#indexing-view-versus-copy\n",
      "  \n"
     ]
    }
   ],
   "source": [
    "#Labelling dataset\n",
    "X = train[:]\n",
    "y = train['Purchase']\n",
    "\n",
    "# Dropping Purchase from Feature Matrix i.e train data which is now stored in X\n",
    "X.drop([\"Purchase\"], axis=1, inplace=True)\n",
    "\n",
    "# Train and Test Split\n",
    "from sklearn.model_selection import train_test_split\n",
    "X_train, X_test, y_train, y_test = train_test_split(X, y ,test_size=0.2)"
   ]
  },
  {
   "cell_type": "code",
   "execution_count": 271,
   "metadata": {
    "collapsed": true
   },
   "outputs": [],
   "source": [
    "import xgboost"
   ]
  },
  {
   "cell_type": "code",
   "execution_count": 99,
   "metadata": {},
   "outputs": [
    {
     "data": {
      "text/plain": [
       "XGBRegressor(base_score=0.5, booster='gbtree', colsample_bylevel=1,\n",
       "       colsample_bytree=1, gamma=0, learning_rate=0.1, max_delta_step=0,\n",
       "       max_depth=3, min_child_weight=1, missing=None, n_estimators=100,\n",
       "       n_jobs=1, nthread=None, objective='reg:linear', random_state=0,\n",
       "       reg_alpha=0, reg_lambda=1, scale_pos_weight=1, seed=None,\n",
       "       silent=True, subsample=1)"
      ]
     },
     "execution_count": 99,
     "metadata": {},
     "output_type": "execute_result"
    }
   ],
   "source": [
    "#Fitting XGBoost to train \n",
    "from xgboost import XGBRegressor\n",
    "regressor = XGBRegressor()\n",
    "\n",
    "regressor.fit(X_train,y_train)"
   ]
  },
  {
   "cell_type": "code",
   "execution_count": 100,
   "metadata": {
    "collapsed": true
   },
   "outputs": [],
   "source": [
    "# Predicting the Test set results\n",
    "y_pred = regressor.predict(test)\n"
   ]
  },
  {
   "cell_type": "code",
   "execution_count": 101,
   "metadata": {
    "collapsed": true
   },
   "outputs": [],
   "source": [
    "# Submission file\n",
    "\n",
    "submit = pd.DataFrame({'User_ID': ids_test, 'Product_ID': product_ids_test, 'Purchase': y_pred})\n",
    "submit = submit[['User_ID', 'Product_ID', 'Purchase']]"
   ]
  },
  {
   "cell_type": "code",
   "execution_count": 102,
   "metadata": {},
   "outputs": [
    {
     "name": "stderr",
     "output_type": "stream",
     "text": [
      "D:\\Anaconda\\lib\\site-packages\\ipykernel_launcher.py:1: DeprecationWarning: \n",
      ".ix is deprecated. Please use\n",
      ".loc for label based indexing or\n",
      ".iloc for positional indexing\n",
      "\n",
      "See the documentation here:\n",
      "http://pandas.pydata.org/pandas-docs/stable/indexing.html#deprecate_ix\n",
      "  \"\"\"Entry point for launching an IPython kernel.\n"
     ]
    }
   ],
   "source": [
    "submit.ix[submit['Purchase'] < 0, 'Purchase'] = 12  # changing min prediction to min value in train\n",
    "submit.to_csv(\"final_solution.csv\", index=False)"
   ]
  },
  {
   "cell_type": "code",
   "execution_count": null,
   "metadata": {
    "collapsed": true
   },
   "outputs": [],
   "source": []
  }
 ],
 "metadata": {
  "kernelspec": {
   "display_name": "Python 3.6",
   "language": "python",
   "name": "python36"
  },
  "language_info": {
   "codemirror_mode": {
    "name": "ipython",
    "version": 3
   },
   "file_extension": ".py",
   "mimetype": "text/x-python",
   "name": "python",
   "nbconvert_exporter": "python",
   "pygments_lexer": "ipython3",
   "version": "3.6.2"
  }
 },
 "nbformat": 4,
 "nbformat_minor": 2
}
